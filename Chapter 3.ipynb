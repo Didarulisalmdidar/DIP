{
 "cells": [
  {
   "cell_type": "code",
   "execution_count": 1,
   "id": "e49bb014",
   "metadata": {},
   "outputs": [],
   "source": [
    "import pandas as pd \n",
    "import matplotlib.pyplot as plt\n",
    "import numpy as np \n",
    "import cv2"
   ]
  },
  {
   "cell_type": "code",
   "execution_count": 2,
   "id": "51934e0d",
   "metadata": {},
   "outputs": [],
   "source": [
    "image=cv2.imread('cat.jpeg')"
   ]
  },
  {
   "cell_type": "code",
   "execution_count": 3,
   "id": "8623c035",
   "metadata": {},
   "outputs": [
    {
     "data": {
      "text/plain": [
       "(148, 265, 3)"
      ]
     },
     "execution_count": 3,
     "metadata": {},
     "output_type": "execute_result"
    }
   ],
   "source": [
    "image.shape "
   ]
  },
  {
   "cell_type": "code",
   "execution_count": 4,
   "id": "bde65a1a",
   "metadata": {},
   "outputs": [],
   "source": [
    "# here 3 channel. So this image is a RGB image "
   ]
  },
  {
   "cell_type": "code",
   "execution_count": 5,
   "id": "170fa851",
   "metadata": {},
   "outputs": [
    {
     "name": "stdout",
     "output_type": "stream",
     "text": [
      "148\n",
      "265\n",
      "3\n"
     ]
    }
   ],
   "source": [
    "height,width,channel=image.shape \n",
    "print(height)\n",
    "print(width)\n",
    "print(channel) "
   ]
  },
  {
   "cell_type": "code",
   "execution_count": 6,
   "id": "beb97aa4",
   "metadata": {},
   "outputs": [
    {
     "name": "stdout",
     "output_type": "stream",
     "text": [
      "148\n",
      "265\n",
      "3\n"
     ]
    }
   ],
   "source": [
    "# this can also done by it \n",
    "height=image.shape[0]\n",
    "width=image.shape[1]\n",
    "channel=image.shape[2]\n",
    "print(height)\n",
    "print(width)\n",
    "print(channel)"
   ]
  },
  {
   "cell_type": "code",
   "execution_count": 7,
   "id": "239214fd",
   "metadata": {},
   "outputs": [],
   "source": [
    "#display image\n",
    "cv2.imshow(\"Image\",image)\n",
    "cv2.waitKey(0)\n",
    "cv2.destroyAllWindows() "
   ]
  },
  {
   "cell_type": "code",
   "execution_count": 8,
   "id": "03006e9b",
   "metadata": {},
   "outputs": [
    {
     "data": {
      "text/plain": [
       "117660"
      ]
     },
     "execution_count": 8,
     "metadata": {},
     "output_type": "execute_result"
    }
   ],
   "source": [
    "image.size # total no of pixel"
   ]
  },
  {
   "cell_type": "code",
   "execution_count": 9,
   "id": "c7d822f7",
   "metadata": {},
   "outputs": [],
   "source": [
    "# convert an image from RGB to GRAY_SCALE\n",
    "gray_img=cv2.cvtColor(image,cv2.COLOR_RGB2GRAY)\n",
    "cv2.imshow(\"Gray Image\",gray_img)\n",
    "cv2.waitKey(0)\n",
    "cv2.destroyAllWindows()  "
   ]
  },
  {
   "cell_type": "code",
   "execution_count": 10,
   "id": "85cdc4ea",
   "metadata": {},
   "outputs": [],
   "source": [
    "# Divide RGB image to their channel\n",
    "red_channel=image[:,:,0]\n",
    "green_channel=image[:,:,1]\n",
    "blue_channel=image[:,:,2]\n",
    "stack_img=np.hstack((red_channel,green_channel,blue_channel))\n",
    "cv2.imshow(\"Red Channel\",red_channel)\n",
    "cv2.imshow(\"Green Channel\",green_channel)\n",
    "cv2.imshow(\"Blue Channel\",blue_channel)\n",
    "cv2.imshow(\"Image\",stack_img)\n",
    "cv2.waitKey(0)\n",
    "cv2.destroyAllWindows()   "
   ]
  },
  {
   "cell_type": "code",
   "execution_count": 11,
   "id": "2e1f7a8b",
   "metadata": {},
   "outputs": [],
   "source": [
    "# if red channel are zero\n",
    "copy_image =image.copy()"
   ]
  },
  {
   "cell_type": "code",
   "execution_count": 12,
   "id": "94aaf4de",
   "metadata": {},
   "outputs": [],
   "source": [
    "copy_image[:,:,0]=0\n",
    "cv2.imshow(\"Copy Image\",copy_image) # blue is zero. So combination of both green and red=yeallo .This is BGR image\n",
    "cv2.waitKey(0)\n",
    "cv2.destroyAllWindows()    "
   ]
  },
  {
   "cell_type": "markdown",
   "id": "7591cdf9",
   "metadata": {},
   "source": [
    "# Image resize flip and crop"
   ]
  },
  {
   "cell_type": "code",
   "execution_count": 13,
   "id": "f068b539",
   "metadata": {},
   "outputs": [
    {
     "data": {
      "text/plain": [
       "(148, 265, 3)"
      ]
     },
     "execution_count": 13,
     "metadata": {},
     "output_type": "execute_result"
    }
   ],
   "source": [
    "image.shape"
   ]
  },
  {
   "cell_type": "code",
   "execution_count": 14,
   "id": "8f6ec1f3",
   "metadata": {},
   "outputs": [],
   "source": [
    "img_resize=cv2.resize(image,(512,512)) "
   ]
  },
  {
   "cell_type": "code",
   "execution_count": 15,
   "id": "9fe4b4a3",
   "metadata": {},
   "outputs": [],
   "source": [
    "cv2.imshow(\"Image Resize\",img_resize)\n",
    "cv2.waitKey(0)\n",
    "cv2.destroyAllWindows() "
   ]
  },
  {
   "cell_type": "code",
   "execution_count": 16,
   "id": "e8d81088",
   "metadata": {},
   "outputs": [
    {
     "data": {
      "text/plain": [
       "(512, 512, 3)"
      ]
     },
     "execution_count": 16,
     "metadata": {},
     "output_type": "execute_result"
    }
   ],
   "source": [
    "img_resize.shape "
   ]
  },
  {
   "cell_type": "code",
   "execution_count": 17,
   "id": "2911cc8a",
   "metadata": {},
   "outputs": [],
   "source": [
    "img_flip=cv2.flip(image,1)\n",
    "img_flip_ver=cv2.flip(image,0)\n",
    "cv2.imshow(\"Image original\",image)\n",
    "cv2.imshow(\"Image Flip Horizontal\",img_flip)\n",
    "cv2.imshow(\"Image Flip vertical\",img_flip_ver)\n",
    "cv2.waitKey(0)\n",
    "cv2.destroyAllWindows() \n",
    "# 1 for horizontal flip 0 for vertical"
   ]
  },
  {
   "cell_type": "code",
   "execution_count": 18,
   "id": "66670807",
   "metadata": {},
   "outputs": [],
   "source": [
    "#image crop\n",
    "img_crop=image[0:100,0:150]\n",
    "cv2.imshow(\"Image Crop\",img_crop)\n",
    "cv2.imshow(\"Image original\",image)\n",
    "cv2.waitKey(0)\n",
    "cv2.destroyAllWindows()  "
   ]
  },
  {
   "cell_type": "markdown",
   "id": "35f83734",
   "metadata": {},
   "source": [
    "# Convert RGB to gray Scale"
   ]
  },
  {
   "cell_type": "code",
   "execution_count": 19,
   "id": "a8ac67e2",
   "metadata": {},
   "outputs": [],
   "source": [
    "gray_img=cv2.cvtColor(image,cv2.COLOR_RGB2GRAY)\n",
    "cv2.imshow(\"Image original\",image)\n",
    "cv2.imshow(\"Image Gray\",gray_img)\n",
    "cv2.waitKey(0)\n",
    "cv2.destroyAllWindows()  "
   ]
  },
  {
   "cell_type": "markdown",
   "id": "b29ddf42",
   "metadata": {},
   "source": [
    "# convert gray image to binary image"
   ]
  },
  {
   "cell_type": "code",
   "execution_count": 20,
   "id": "98451138",
   "metadata": {},
   "outputs": [],
   "source": [
    "binary_img=gray_img.copy() \n",
    "row=gray_img.shape[0]\n",
    "col=gray_img.shape[1]\n",
    "for i in range (row):\n",
    "    for j in range (col):\n",
    "        pixel=binary_img[i][j]\n",
    "        if pixel>150: # here i set 150 as threshold\n",
    "            binary_img[i][j]=255\n",
    "        else:\n",
    "            binary_img[i][j]=0\n",
    "        \n",
    "        \n",
    "    "
   ]
  },
  {
   "cell_type": "code",
   "execution_count": 21,
   "id": "12f51ac8",
   "metadata": {},
   "outputs": [],
   "source": [
    "cv2.imshow(\"Gray image\",gray_img)\n",
    "cv2.imshow(\"Binary image\",binary_img)\n",
    "cv2.waitKey(0)\n",
    "cv2.destroyAllWindows() "
   ]
  },
  {
   "cell_type": "markdown",
   "id": "b53a50c9",
   "metadata": {},
   "source": [
    "# Imgae Negative"
   ]
  },
  {
   "cell_type": "code",
   "execution_count": 22,
   "id": "88e7bcd7",
   "metadata": {},
   "outputs": [],
   "source": [
    "# S=L-1-R  Here L =256 so 255- input image\n",
    "img_neg=255-gray_img\n",
    "cv2.imshow(\"Gray image\",gray_img)\n",
    "cv2.imshow(\"Negative image\",img_neg)\n",
    "cv2.waitKey(0)\n",
    "cv2.destroyAllWindows()"
   ]
  },
  {
   "cell_type": "code",
   "execution_count": 23,
   "id": "682e72da",
   "metadata": {},
   "outputs": [],
   "source": [
    "# doing more manually\n",
    "neg_img=gray_img.copy() \n",
    "for i in range (row):\n",
    "    for j in range (col): \n",
    "        neg_img[i][j]=255-neg_img[i][j]"
   ]
  },
  {
   "cell_type": "code",
   "execution_count": 24,
   "id": "3b9819cf",
   "metadata": {},
   "outputs": [],
   "source": [
    "cv2.imshow(\"Gray image\",gray_img)\n",
    "cv2.imshow(\"Image Negative\",neg_img)\n",
    "cv2.imshow(\"Negative image\",img_neg)\n",
    "cv2.waitKey(0)\n",
    "cv2.destroyAllWindows()"
   ]
  },
  {
   "cell_type": "markdown",
   "id": "f2bfea11",
   "metadata": {},
   "source": [
    "# Log Transformation"
   ]
  },
  {
   "cell_type": "code",
   "execution_count": 25,
   "id": "38f6b510",
   "metadata": {},
   "outputs": [],
   "source": [
    "img=cv2.imread('einstein.jpg')\n",
    "cv2.imshow(\"Log Transform\",img)\n",
    "cv2.waitKey(0)\n",
    "cv2.destroyAllWindows()"
   ]
  },
  {
   "cell_type": "code",
   "execution_count": 26,
   "id": "763a9aca",
   "metadata": {},
   "outputs": [],
   "source": [
    "img1=cv2.cvtColor(img,cv2.COLOR_BGR2RGB)\n",
    "cv2.imshow(\"BGR\",img)\n",
    "cv2.imshow(\"RGB\",img1)\n",
    "cv2.waitKey(0)\n",
    "cv2.destroyAllWindows()  \n",
    "#RGB and BGR have no difference"
   ]
  },
  {
   "cell_type": "code",
   "execution_count": 27,
   "id": "6fb810d3",
   "metadata": {},
   "outputs": [],
   "source": [
    "gray_img=cv2.cvtColor(img,cv2.COLOR_RGB2GRAY)\n",
    "cv2.imshow(\"Gray image\",gray_img)\n",
    "cv2.imshow(\"BGR\",img)\n",
    "cv2.waitKey(0)\n",
    "cv2.destroyAllWindows()"
   ]
  },
  {
   "cell_type": "code",
   "execution_count": 28,
   "id": "7a16672b",
   "metadata": {},
   "outputs": [
    {
     "name": "stderr",
     "output_type": "stream",
     "text": [
      "C:\\Users\\HP\\AppData\\Local\\Temp\\ipykernel_13184\\4073766822.py:5: RuntimeWarning: divide by zero encountered in log\n",
      "  log_img=c*(np.log(1+gray_img))\n"
     ]
    }
   ],
   "source": [
    "# after convert to gray image of an image then we can perform all other operations\n",
    "#Log transform S= c*log ( 1 +r) r-> input image\n",
    "c=255/(np.log(1+255))\n",
    "#The value of c is to normalize the output values of the logarithmic function to the range [0, 255]. \n",
    "log_img=c*(np.log(1+gray_img)) \n",
    "log_img=np.uint8(log_img) #Convert to uint8 data type\n",
    "cv2.imshow(\"Gray image\",gray_img) \n",
    "cv2.imshow(\"Log image\",log_img)\n",
    "cv2.waitKey(0)\n",
    "cv2.destroyAllWindows()   "
   ]
  },
  {
   "cell_type": "markdown",
   "id": "cb774ec1",
   "metadata": {},
   "source": [
    "# Power Law"
   ]
  },
  {
   "cell_type": "code",
   "execution_count": 29,
   "id": "43294e9f",
   "metadata": {},
   "outputs": [],
   "source": [
    "img=cv2.imread('flower.jpeg')"
   ]
  },
  {
   "cell_type": "code",
   "execution_count": 30,
   "id": "2d5fdaaa",
   "metadata": {},
   "outputs": [],
   "source": [
    "cv2.imshow(\"flower\",img)\n",
    "cv2.waitKey(0)\n",
    "cv2.destroyAllWindows() "
   ]
  },
  {
   "cell_type": "code",
   "execution_count": 31,
   "id": "608e21ad",
   "metadata": {},
   "outputs": [
    {
     "data": {
      "text/plain": [
       "0"
      ]
     },
     "execution_count": 31,
     "metadata": {},
     "output_type": "execute_result"
    }
   ],
   "source": [
    "np.min(img )"
   ]
  },
  {
   "cell_type": "code",
   "execution_count": 32,
   "id": "8bed56f3",
   "metadata": {},
   "outputs": [
    {
     "data": {
      "text/plain": [
       "255"
      ]
     },
     "execution_count": 32,
     "metadata": {},
     "output_type": "execute_result"
    }
   ],
   "source": [
    "np.max(img )"
   ]
  },
  {
   "cell_type": "code",
   "execution_count": 33,
   "id": "3cbdf839",
   "metadata": {},
   "outputs": [
    {
     "data": {
      "text/plain": [
       "numpy.ndarray"
      ]
     },
     "execution_count": 33,
     "metadata": {},
     "output_type": "execute_result"
    }
   ],
   "source": [
    "type(img)"
   ]
  },
  {
   "cell_type": "code",
   "execution_count": 34,
   "id": "e8331b75",
   "metadata": {},
   "outputs": [],
   "source": [
    "img1=img/255 ## divide by 255 to range it in 0 and 1\n",
    "# that is beneficial for arithmetic operation to reduce overflow"
   ]
  },
  {
   "cell_type": "code",
   "execution_count": 35,
   "id": "d03c24a7",
   "metadata": {},
   "outputs": [
    {
     "data": {
      "text/plain": [
       "0.0"
      ]
     },
     "execution_count": 35,
     "metadata": {},
     "output_type": "execute_result"
    }
   ],
   "source": [
    "img1.min() "
   ]
  },
  {
   "cell_type": "code",
   "execution_count": 36,
   "id": "d816ac5b",
   "metadata": {},
   "outputs": [
    {
     "data": {
      "text/plain": [
       "1.0"
      ]
     },
     "execution_count": 36,
     "metadata": {},
     "output_type": "execute_result"
    }
   ],
   "source": [
    "img1.max()"
   ]
  },
  {
   "cell_type": "code",
   "execution_count": 38,
   "id": "274fc736",
   "metadata": {},
   "outputs": [],
   "source": [
    "gamma1=0.5 \n",
    "power_law1=np.power(img1,gamma1)\n",
    "gamma2=1.5\n",
    "power_law2=np.power(img1,gamma2)\n",
    "stack=np.hstack((img1,power_law1,power_law2))\n",
    "cv2.imshow(\"1\",img)\n",
    "cv2.imshow(\"0.5\",power_law1)\n",
    "cv2.imshow(\"1.5\",power_law2)\n",
    "cv2.waitKey(0)\n",
    "cv2.destroyAllWindows()  "
   ]
  },
  {
   "cell_type": "markdown",
   "id": "db166cc3",
   "metadata": {},
   "source": [
    "# Calculate the min, max and average intensity value of an image without \n",
    "%% using built in function"
   ]
  },
  {
   "cell_type": "code",
   "execution_count": 47,
   "id": "56ad1b31",
   "metadata": {},
   "outputs": [],
   "source": [
    "img=cv2.imread('flower.jpeg')"
   ]
  },
  {
   "cell_type": "code",
   "execution_count": 48,
   "id": "96a23859",
   "metadata": {},
   "outputs": [],
   "source": [
    "gray=cv2.cvtColor(img,cv2.COLOR_BGR2GRAY)  "
   ]
  },
  {
   "cell_type": "code",
   "execution_count": 49,
   "id": "79d977e0",
   "metadata": {},
   "outputs": [
    {
     "data": {
      "text/plain": [
       "0"
      ]
     },
     "execution_count": 49,
     "metadata": {},
     "output_type": "execute_result"
    }
   ],
   "source": [
    "gray.min() "
   ]
  },
  {
   "cell_type": "code",
   "execution_count": 51,
   "id": "62af1a60",
   "metadata": {},
   "outputs": [
    {
     "data": {
      "text/plain": [
       "253"
      ]
     },
     "execution_count": 51,
     "metadata": {},
     "output_type": "execute_result"
    }
   ],
   "source": [
    "gray.max() "
   ]
  },
  {
   "cell_type": "code",
   "execution_count": 55,
   "id": "2521a817",
   "metadata": {},
   "outputs": [],
   "source": [
    "min=255\n",
    "max=0\n",
    "tot=0\n",
    "ro,col=gray.shape\n",
    "for i in range(ro):\n",
    "    for j in range (col):\n",
    "        pixel=gray[i][j]\n",
    "        tot=tot+pixel\n",
    "        if pixel>max:\n",
    "            max=pixel\n",
    "        if pixel<min:\n",
    "            min=pixel  \n",
    "        "
   ]
  },
  {
   "cell_type": "code",
   "execution_count": 56,
   "id": "5e85ab46",
   "metadata": {},
   "outputs": [
    {
     "data": {
      "text/plain": [
       "0"
      ]
     },
     "execution_count": 56,
     "metadata": {},
     "output_type": "execute_result"
    }
   ],
   "source": [
    "min "
   ]
  },
  {
   "cell_type": "code",
   "execution_count": 57,
   "id": "352aa0f4",
   "metadata": {},
   "outputs": [
    {
     "data": {
      "text/plain": [
       "253"
      ]
     },
     "execution_count": 57,
     "metadata": {},
     "output_type": "execute_result"
    }
   ],
   "source": [
    "max "
   ]
  },
  {
   "cell_type": "code",
   "execution_count": 59,
   "id": "5bc678ae",
   "metadata": {},
   "outputs": [],
   "source": [
    "avg=tot/(ro*col)  "
   ]
  },
  {
   "cell_type": "code",
   "execution_count": 60,
   "id": "6d9942bb",
   "metadata": {},
   "outputs": [
    {
     "data": {
      "text/plain": [
       "102.53657228017883"
      ]
     },
     "execution_count": 60,
     "metadata": {},
     "output_type": "execute_result"
    }
   ],
   "source": [
    "avg "
   ]
  },
  {
   "cell_type": "code",
   "execution_count": null,
   "id": "8462c56b",
   "metadata": {},
   "outputs": [],
   "source": []
  }
 ],
 "metadata": {
  "kernelspec": {
   "display_name": "Python 3 (ipykernel)",
   "language": "python",
   "name": "python3"
  },
  "language_info": {
   "codemirror_mode": {
    "name": "ipython",
    "version": 3
   },
   "file_extension": ".py",
   "mimetype": "text/x-python",
   "name": "python",
   "nbconvert_exporter": "python",
   "pygments_lexer": "ipython3",
   "version": "3.9.13"
  }
 },
 "nbformat": 4,
 "nbformat_minor": 5
}
